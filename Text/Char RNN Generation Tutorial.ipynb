{
 "cells": [
  {
   "cell_type": "code",
   "execution_count": null,
   "metadata": {},
   "outputs": [],
   "source": [
    "%matplotlib inline"
   ]
  },
  {
   "cell_type": "markdown",
   "metadata": {},
   "source": [
    "\n",
    "NLP From Scratch: Generating Names with a Character-Level RNN\n",
    "*************************************************************\n",
    "**Author**: `Sean Robertson <https://github.com/spro/practical-pytorch>`_\n",
    "\n",
    "这是我们第二份\"NLP From Scratch\"的tutorials。\n",
    "在`第一份tutorial </intermediate/char_rnn_classification_tutorial>`中我们使用了RNN来对名字归类到它们原来的语言中。这次我们会从语言中生成名字。\n",
    "\n",
    "::\n",
    "\n",
    "    > python sample.py Russian RUS\n",
    "    Rovakov\n",
    "    Uantov\n",
    "    Shavakov\n",
    "\n",
    "    > python sample.py German GER\n",
    "    Gerren\n",
    "    Ereng\n",
    "    Rosher\n",
    "\n",
    "    > python sample.py Spanish SPA\n",
    "    Salla\n",
    "    Parer\n",
    "    Allan\n",
    "\n",
    "    > python sample.py Chinese CHI\n",
    "    Chan\n",
    "    Hang\n",
    "    Iun\n",
    "我们会通过手写线性层手改进小的RNN。跟以往最大的不同是不在阅读名字的所有字母后预测分类，我们同时输入一个分类和输出一个字母。不断地预测字符来组织语言(这个可以同时通过词语或者其他更高的循序结构)，这个是常常被当作“语言模型”。\n",
    "\n",
    "**推荐阅读:**\n",
    "我们假定你有至少安装PyTorch，懂得Python，以及懂得张量:\n",
    "\n",
    "-  https://pytorch.org/ 安装指南\n",
    "-  :doc:`/beginner/deep_learning_60min_blitz` 通过这个来开始PyTorch\n",
    "-  :doc:`/beginner/pytorch_with_examples` 通过这个获得一个广而深的概览\n",
    "-  :doc:`/beginner/former_torchies_tutorial` 如果你是之前Lua Torch用户\n",
    "\n",
    "这对同时认识RNNs以及它们怎么工作的非常有用:\n",
    "\n",
    "-  `RNN不合理的有效性 <https://karpathy.github.io/2015/05/21/rnn-effectiveness/>`__\n",
    "   这里有很多例子可以说明\n",
    "-  `理解LSTM神经网络<https://colah.github.io/posts/2015-08-Understanding-LSTMs/>`__\n",
    "   这是特别地跟LSTMs有关但是同时充满RNNs信息的\n",
    "\n",
    "我同时建议之前的tutorial,:文档:`/intermediate/char_rnn_classification_tutorial`\n",
    "\n",
    "\n",
    "Preparing the Data\n",
    "==================\n",
    "\n",
    ".. 注意::\n",
    "   从这里下载数据\n",
    "   `这里<https://download.pytorch.org/tutorial/data.zip>`_\n",
    "   把它抽取到目前的目录下。\n",
    "\n",
    "在这里可以看到最后的tutorial中关于这个程序的更多细节。总的来说，有很多plain tex文件``data/names/[Language].txt``每一行中一个名字。我们把行分割进数组，转换Unicode到ASCII,然后用字典结束``{language: [names ...]}``。\n"
   ]
  },
  {
   "cell_type": "code",
   "execution_count": null,
   "metadata": {},
   "outputs": [],
   "source": [
    "from __future__ import unicode_literals, print_function, division\n",
    "from io import open\n",
    "import glob\n",
    "import os\n",
    "import unicodedata\n",
    "import string\n",
    "\n",
    "all_letters = string.ascii_letters + \" .,;'-\"\n",
    "n_letters = len(all_letters) + 1 # Plus EOS marker\n",
    "\n",
    "def findFiles(path): return glob.glob(path)\n",
    "\n",
    "# Turn a Unicode string to plain ASCII, thanks to https://stackoverflow.com/a/518232/2809427\n",
    "def unicodeToAscii(s):\n",
    "    return ''.join(\n",
    "        c for c in unicodedata.normalize('NFD', s)\n",
    "        if unicodedata.category(c) != 'Mn'\n",
    "        and c in all_letters\n",
    "    )\n",
    "\n",
    "# Read a file and split into lines\n",
    "def readLines(filename):\n",
    "    lines = open(filename, encoding='utf-8').read().strip().split('\\n')\n",
    "    return [unicodeToAscii(line) for line in lines]\n",
    "\n",
    "# Build the category_lines dictionary, a list of lines per category\n",
    "category_lines = {}\n",
    "all_categories = []\n",
    "for filename in findFiles('data/names/*.txt'):\n",
    "    category = os.path.splitext(os.path.basename(filename))[0]\n",
    "    all_categories.append(category)\n",
    "    lines = readLines(filename)\n",
    "    category_lines[category] = lines\n",
    "\n",
    "n_categories = len(all_categories)\n",
    "\n",
    "if n_categories == 0:\n",
    "    raise RuntimeError('Data not found. Make sure that you downloaded data '\n",
    "        'from https://download.pytorch.org/tutorial/data.zip and extract it to '\n",
    "        'the current directory.')\n",
    "\n",
    "print('# categories:', n_categories, all_categories)\n",
    "print(unicodeToAscii(\"O'Néàl\"))"
   ]
  },
  {
   "cell_type": "markdown",
   "metadata": {},
   "source": [
    "Creating the Network\n",
    "====================\n",
    "\n",
    "这个网络扩展了`RNN最后一份tutorial<#Creating-the-Network>`__\n",
    "类别张量使用了一个额外的语句，这是跟其他语句一起链接起来的。这个类别张量是类似字母输入的独热向量。\n",
    "\n",
    "我们会把下一个字母的概率输出翻译出来。当抽样时，最可能作为下一个输入的是上一个输出字母。\n",
    "\n",
    "我们增加了第二个线性层``o2o``(在组合隐藏层以及输出时)来给它更多的能量。这里同时包括dropout层，可以从 `它输入的随机归零部分<https://arxiv.org/abs/1207.0580>`__ 看到，带有一个给定的概率(这里是0.1)以及通常给模糊输入来预防过拟合。这里我们在神经网络最后的部分加入噪声增加样本多样性来使用它。\n",
    "\n",
    ".. figure:: https://i.imgur.com/jzVrf7f.png\n",
    "   :alt:"
   ]
  },
  {
   "cell_type": "code",
   "execution_count": null,
   "metadata": {},
   "outputs": [],
   "source": [
    "import torch\n",
    "import torch.nn as nn\n",
    "\n",
    "class RNN(nn.Module):\n",
    "    def __init__(self, input_size, hidden_size, output_size):\n",
    "        super(RNN, self).__init__()\n",
    "        self.hidden_size = hidden_size\n",
    "\n",
    "        self.i2h = nn.Linear(n_categories + input_size + hidden_size, hidden_size)\n",
    "        self.i2o = nn.Linear(n_categories + input_size + hidden_size, output_size)\n",
    "        self.o2o = nn.Linear(hidden_size + output_size, output_size)\n",
    "        self.dropout = nn.Dropout(0.1)\n",
    "        self.softmax = nn.LogSoftmax(dim=1)\n",
    "\n",
    "    def forward(self, category, input, hidden):\n",
    "        input_combined = torch.cat((category, input, hidden), 1)\n",
    "        hidden = self.i2h(input_combined)\n",
    "        output = self.i2o(input_combined)\n",
    "        output_combined = torch.cat((hidden, output), 1)\n",
    "        output = self.o2o(output_combined)\n",
    "        output = self.dropout(output)\n",
    "        output = self.softmax(output)\n",
    "        return output, hidden\n",
    "\n",
    "    def initHidden(self):\n",
    "        return torch.zeros(1, self.hidden_size)"
   ]
  },
  {
   "cell_type": "markdown",
   "metadata": {},
   "source": [
    "Training\n",
    "=========\n",
    "Preparing for Training\n",
    "----------------------\n",
    "\n",
    "首先，使用helper函数来得到随机对 (类别, 行):"
   ]
  },
  {
   "cell_type": "code",
   "execution_count": null,
   "metadata": {},
   "outputs": [],
   "source": [
    "import random\n",
    "\n",
    "# Random item from a list\n",
    "def randomChoice(l):\n",
    "    return l[random.randint(0, len(l) - 1)]\n",
    "\n",
    "# Get a random category and random line from that category\n",
    "def randomTrainingPair():\n",
    "    category = randomChoice(all_categories)\n",
    "    line = randomChoice(category_lines[category])\n",
    "    return category, line"
   ]
  },
  {
   "cell_type": "markdown",
   "metadata": {},
   "source": [
    "对于每一个timestep(那就是，对于每一个在训练单词中的字母)，网络的输入会``(category, current letter, hidden state)`` 以及输出会``(next letter, next hidden state)``。\n",
    "\n",
    "\n",
    "因此对于每一个训练集合来说，我们会需要类别，一个字母输入的集合，一个字母输出的集合。\n",
    "\n",
    "因为我们从现在每一步timestep的字母预测下一个字母，这个字母对是在line里面一组又一组连续的字母。比如说``\"ABCD<EOS>\"``我们会创建(\"A\", \"B\"), (\"B\", \"C\"),(\"C\", \"D\"), (\"D\", \"EOS\")。\n",
    "\n",
    ".. 例子:: https://i.imgur.com/JH58tXY.png\n",
    "   :alt:\n",
    "类别张量是一个 `独热张量 <https://en.wikipedia.org/wiki/One-hot>`__ 大小是\n",
    "``<1 x n_categories>``。当训练时我们需要在每一步timestep喂给它 - 这是一个设计的设备, 它可以包括一部分初始隐藏状态或者一些其他策略。\n"
   ]
  },
  {
   "cell_type": "code",
   "execution_count": null,
   "metadata": {},
   "outputs": [],
   "source": [
    "# One-hot vector for category\n",
    "def categoryTensor(category):\n",
    "    li = all_categories.index(category)\n",
    "    tensor = torch.zeros(1, n_categories)\n",
    "    tensor[0][li] = 1\n",
    "    return tensor\n",
    "\n",
    "# One-hot matrix of first to last letters (not including EOS) for input\n",
    "def inputTensor(line):\n",
    "    tensor = torch.zeros(len(line), 1, n_letters)\n",
    "    for li in range(len(line)):\n",
    "        letter = line[li]\n",
    "        tensor[li][0][all_letters.find(letter)] = 1\n",
    "    return tensor\n",
    "\n",
    "# LongTensor of second letter to end (EOS) for target\n",
    "def targetTensor(line):\n",
    "    letter_indexes = [all_letters.find(line[li]) for li in range(1, len(line))]\n",
    "    letter_indexes.append(n_letters - 1) # EOS\n",
    "    return torch.LongTensor(letter_indexes)"
   ]
  },
  {
   "cell_type": "markdown",
   "metadata": {},
   "source": [
    "为了训练的方便我们制造了``randomTrainingExample``函数来获得随机(category, line)对以及把它们变成所必须的(category, input, target)张量。"
   ]
  },
  {
   "cell_type": "code",
   "execution_count": null,
   "metadata": {},
   "outputs": [],
   "source": [
    "# Make category, input, and target tensors from a random category, line pair\n",
    "def randomTrainingExample():\n",
    "    category, line = randomTrainingPair()\n",
    "    category_tensor = categoryTensor(category)\n",
    "    input_line_tensor = inputTensor(line)\n",
    "    target_line_tensor = targetTensor(line)\n",
    "    return category_tensor, input_line_tensor, target_line_tensor"
   ]
  },
  {
   "cell_type": "markdown",
   "metadata": {},
   "source": [
    "Training the Network\n",
    "--------------------\n",
    "\n",
    "与分类相反的是，分类仅仅使用了最后的输出，我们在每一步都有预测，因此我们每一步都有损失。\n",
    "\n",
    "自动梯度的魔法在于允许你去简单地把这每一步的损失加总以及最后使用call back。"
   ]
  },
  {
   "cell_type": "code",
   "execution_count": null,
   "metadata": {},
   "outputs": [],
   "source": [
    "criterion = nn.NLLLoss()\n",
    "\n",
    "learning_rate = 0.0005\n",
    "\n",
    "def train(category_tensor, input_line_tensor, target_line_tensor):\n",
    "    target_line_tensor.unsqueeze_(-1)\n",
    "    hidden = rnn.initHidden()\n",
    "\n",
    "    rnn.zero_grad()\n",
    "\n",
    "    loss = 0\n",
    "\n",
    "    for i in range(input_line_tensor.size(0)):\n",
    "        output, hidden = rnn(category_tensor, input_line_tensor[i], hidden)\n",
    "        l = criterion(output, target_line_tensor[i])\n",
    "        loss += l\n",
    "\n",
    "    loss.backward()\n",
    "\n",
    "    for p in rnn.parameters():\n",
    "        p.data.add_(-learning_rate, p.grad.data)\n",
    "\n",
    "    return output, loss.item() / input_line_tensor.size(0)"
   ]
  },
  {
   "cell_type": "markdown",
   "metadata": {},
   "source": [
    "为了跟踪训练时间，我增加了``timeSince(timestamp)``函数，它会返回人类可读的字符:"
   ]
  },
  {
   "cell_type": "code",
   "execution_count": null,
   "metadata": {},
   "outputs": [],
   "source": [
    "import time\n",
    "import math\n",
    "\n",
    "def timeSince(since):\n",
    "    now = time.time()\n",
    "    s = now - since\n",
    "    m = math.floor(s / 60)\n",
    "    s -= m * 60\n",
    "    return '%dm %ds' % (m, s)"
   ]
  },
  {
   "cell_type": "markdown",
   "metadata": {},
   "source": [
    "训练跟商业一样 - 呼叫一大串训练时间以及等待一些时间，每一次例子用``print_every``打印目前的时间以及损失，然后用``plot_every``在之后打印图``all_losses``中保持储存平均损失。"
   ]
  },
  {
   "cell_type": "code",
   "execution_count": null,
   "metadata": {},
   "outputs": [],
   "source": [
    "rnn = RNN(n_letters, 128, n_letters)\n",
    "\n",
    "n_iters = 100000\n",
    "print_every = 5000\n",
    "plot_every = 500\n",
    "all_losses = []\n",
    "total_loss = 0 # Reset every plot_every iters\n",
    "\n",
    "start = time.time()\n",
    "\n",
    "for iter in range(1, n_iters + 1):\n",
    "    output, loss = train(*randomTrainingExample())\n",
    "    total_loss += loss\n",
    "\n",
    "    if iter % print_every == 0:\n",
    "        print('%s (%d %d%%) %.4f' % (timeSince(start), iter, iter / n_iters * 100, loss))\n",
    "\n",
    "    if iter % plot_every == 0:\n",
    "        all_losses.append(total_loss / plot_every)\n",
    "        total_loss = 0"
   ]
  },
  {
   "cell_type": "markdown",
   "metadata": {},
   "source": [
    "Plotting the Losses\n",
    "-------------------\n",
    "\n",
    "从all \\ _losses 展示的神经网络学习中打印历史损失："
   ]
  },
  {
   "cell_type": "code",
   "execution_count": null,
   "metadata": {},
   "outputs": [],
   "source": [
    "import matplotlib.pyplot as plt\n",
    "import matplotlib.ticker as ticker\n",
    "\n",
    "plt.figure()\n",
    "plt.plot(all_losses)"
   ]
  },
  {
   "cell_type": "markdown",
   "metadata": {},
   "source": [
    "Sampling the Network\n",
    "====================\n",
    "\n",
    "为了给我们的神经网络一个字母以及要求它预测下一个是什么，喂给它下一个字母以及重复直到EOS token。\n",
    "\n",
    "-  为输入category创建张量，开始字母，以及空隐藏状态\n",
    "-  从开始字母创建一个字符``output_name``\n",
    "-  到最大的输出长度\n",
    "\n",
    "   -  把现在得到字母喂到神经网络\n",
    "   -  把下一个单词从最大的输出中拿出来，然后就是下一个隐藏状态\n",
    "   -  如果单词就是EOS，在那里停止\n",
    "   -  如果是一个普通的字母，增加``output_name``然后继续\n",
    "\n",
    "-  回到最后一个名字\n",
    "\n",
    ".. 注意::\n",
    "   不是通过给予它一个初始字母，另一个策略是包括一个“初始字符” token在训练以及有神经网络选择它作为初始字母。"
   ]
  },
  {
   "cell_type": "code",
   "execution_count": null,
   "metadata": {},
   "outputs": [],
   "source": [
    "max_length = 20\n",
    "\n",
    "# Sample from a category and starting letter\n",
    "def sample(category, start_letter='A'):\n",
    "    with torch.no_grad():  # no need to track history in sampling\n",
    "        category_tensor = categoryTensor(category)\n",
    "        input = inputTensor(start_letter)\n",
    "        hidden = rnn.initHidden()\n",
    "\n",
    "        output_name = start_letter\n",
    "\n",
    "        for i in range(max_length):\n",
    "            output, hidden = rnn(category_tensor, input[0], hidden)\n",
    "            topv, topi = output.topk(1)\n",
    "            topi = topi[0][0]\n",
    "            if topi == n_letters - 1:\n",
    "                break\n",
    "            else:\n",
    "                letter = all_letters[topi]\n",
    "                output_name += letter\n",
    "            input = inputTensor(letter)\n",
    "\n",
    "        return output_name\n",
    "\n",
    "# Get multiple samples from one category and multiple starting letters\n",
    "def samples(category, start_letters='ABC'):\n",
    "    for start_letter in start_letters:\n",
    "        print(sample(category, start_letter))\n",
    "\n",
    "samples('Russian', 'RUS')\n",
    "\n",
    "samples('German', 'GER')\n",
    "\n",
    "samples('Spanish', 'SPA')\n",
    "\n",
    "samples('Chinese', 'CHI')"
   ]
  },
  {
   "cell_type": "markdown",
   "metadata": {},
   "source": [
    "Exercises\n",
    "=========\n",
    "\n",
    "-  尝试用不同的分类数据集  ->  行，比如说:\n",
    "\n",
    "   -  人造的序列 -> 字符名字\n",
    "   -  部分演讲 -> 词语\n",
    "   -  国家 -> 城市\n",
    "\n",
    "-  使用一个\"句子开始\" token 这样抽样可以从选择一个初始字母开始\n",
    "-  通过得到一个更大或者更好形状的网络来得到更好的结果\n",
    "\n",
    "   -  尝试nn.LSTM以及nn.GRU层\n",
    "   -  组合多种RNNs作为更高水平的网络"
   ]
  },
  {
   "cell_type": "code",
   "execution_count": null,
   "metadata": {},
   "outputs": [],
   "source": []
  }
 ],
 "metadata": {
  "kernelspec": {
   "display_name": "Python 3",
   "language": "python",
   "name": "python3"
  },
  "language_info": {
   "codemirror_mode": {
    "name": "ipython",
    "version": 3
   },
   "file_extension": ".py",
   "mimetype": "text/x-python",
   "name": "python",
   "nbconvert_exporter": "python",
   "pygments_lexer": "ipython3",
   "version": "3.7.2"
  }
 },
 "nbformat": 4,
 "nbformat_minor": 1
}
